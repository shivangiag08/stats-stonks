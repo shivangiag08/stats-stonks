{
 "cells": [
  {
   "cell_type": "code",
   "execution_count": 2,
   "metadata": {},
   "outputs": [],
   "source": [
    "import pandas as pd\n",
    "from scipy.stats import chi2_contingency\n",
    "import statsmodels.api as sm\n",
    "import numpy as np\n",
    "\n",
    "# Load the data (replace paths with actual file paths or DataFrames)\n",
    "census_2001 = pd.read_csv(\"pc01_vd_clean_pc01subdist.csv\")  # Replace with actual 2001 data path\n",
    "census_2011 = pd.read_csv(\"pc01_vd_clean_pc01subdist.csv\")  # Replace with actual 2011 data path\n"
   ]
  },
  {
   "cell_type": "code",
   "execution_count": null,
   "metadata": {},
   "outputs": [],
   "source": [
    "list(census_2001.columns)"
   ]
  },
  {
   "cell_type": "code",
   "execution_count": null,
   "metadata": {},
   "outputs": [],
   "source": [
    "# Merge datasets on village identifiers (assuming a common column like \"village_id\")\n",
    "merged_data = pd.merge(census_2001, census_2011, left_on = \"pc01_subdistrict_id\", right_on=\"pc01_subdistrict_id\")\n",
    "\n",
    "# Calculate percentage change in SC and ST populations\n",
    "merged_data[\"sc_change_pct\"] = (\n",
    "    (merged_data[\"sc_population_2011\"] - merged_data[\"sc_population_2001\"])\n",
    "    / merged_data[\"sc_population_2001\"]\n",
    ") * 100\n",
    "merged_data[\"st_change_pct\"] = (\n",
    "    (merged_data[\"st_population_2011\"] - merged_data[\"st_population_2001\"])\n",
    "    / merged_data[\"st_population_2001\"]\n",
    ") * 100\n",
    "\n",
    "# Categorize villages based on the number of educational facilities in 2011\n",
    "def categorize_facilities(count):\n",
    "    if count < 2:\n",
    "        return \"Low\"\n",
    "    elif count <= 5:\n",
    "        return \"Medium\"\n",
    "    else:\n",
    "        return \"High\"\n",
    "\n",
    "merged_data[\"education_facility_category\"] = merged_data[\"num_educational_facilities_2011\"].apply(categorize_facilities)\n",
    "\n",
    "# Categorize population changes into bins (e.g., decrease, no change, increase)\n",
    "def categorize_change(value):\n",
    "    if value < 0:\n",
    "        return \"Decrease\"\n",
    "    elif value == 0:\n",
    "        return \"No Change\"\n",
    "    else:\n",
    "        return \"Increase\"\n",
    "\n",
    "merged_data[\"sc_change_category\"] = merged_data[\"sc_change_pct\"].apply(categorize_change)\n",
    "merged_data[\"st_change_category\"] = merged_data[\"st_change_pct\"].apply(categorize_change)\n",
    "\n",
    "# Create a contingency table for chi-squared test\n",
    "contingency_table = pd.crosstab(\n",
    "    merged_data[\"education_facility_category\"], merged_data[\"sc_change_category\"]\n",
    ")\n",
    "\n",
    "# Perform chi-squared test\n",
    "chi2, p_value, dof, expected = chi2_contingency(contingency_table)\n",
    "print(\"Chi-squared Test Results for SC Population Changes:\")\n",
    "print(f\"Chi-squared Statistic: {chi2}\")\n",
    "print(f\"P-value: {p_value}\")\n",
    "\n",
    "# Logistic Regression for SC Population Change (Increase vs Others)\n",
    "merged_data[\"sc_increase\"] = (merged_data[\"sc_change_category\"] == \"Increase\").astype(int)\n",
    "X = pd.get_dummies(merged_data[\"education_facility_category\"], drop_first=True)\n",
    "X = sm.add_constant(X)  # Add a constant for the intercept\n",
    "y = merged_data[\"sc_increase\"]\n",
    "\n",
    "logit_model = sm.Logit(y, X)\n",
    "result = logit_model.fit()\n",
    "print(result.summary())\n",
    "\n",
    "# Repeat the analysis for ST Population Change\n",
    "contingency_table_st = pd.crosstab(\n",
    "    merged_data[\"education_facility_category\"], merged_data[\"st_change_category\"]\n",
    ")\n",
    "\n",
    "chi2_st, p_value_st, dof_st, expected_st = chi2_contingency(contingency_table_st)\n",
    "print(\"\\nChi-squared Test Results for ST Population Changes:\")\n",
    "print(f\"Chi-squared Statistic: {chi2_st}\")\n",
    "print(f\"P-value: {p_value_st}\")\n",
    "\n",
    "merged_data[\"st_increase\"] = (merged_data[\"st_change_category\"] == \"Increase\").astype(int)\n",
    "y_st = merged_data[\"st_increase\"]\n",
    "\n",
    "logit_model_st = sm.Logit(y_st, X)\n",
    "result_st = logit_model_st.fit()\n",
    "print(result_st.summary())\n"
   ]
  },
  {
   "cell_type": "code",
   "execution_count": null,
   "metadata": {},
   "outputs": [],
   "source": []
  }
 ],
 "metadata": {
  "kernelspec": {
   "display_name": "base",
   "language": "python",
   "name": "python3"
  },
  "language_info": {
   "codemirror_mode": {
    "name": "ipython",
    "version": 3
   },
   "file_extension": ".py",
   "mimetype": "text/x-python",
   "name": "python",
   "nbconvert_exporter": "python",
   "pygments_lexer": "ipython3",
   "version": "3.10.14"
  }
 },
 "nbformat": 4,
 "nbformat_minor": 2
}
