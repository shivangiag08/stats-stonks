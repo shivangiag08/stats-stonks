{
 "cells": [
  {
   "cell_type": "code",
   "execution_count": 46,
   "metadata": {},
   "outputs": [],
   "source": [
    "import pandas as pd\n",
    "from scipy.stats import chi2_contingency\n",
    "import statsmodels.api as sm\n",
    "import numpy as np\n",
    "\n",
    "# Load the data (replace paths with actual file paths or DataFrames)\n",
    "census_2001 = pd.read_csv(\"pc01_vd_clean_shrid.csv\")  # Replace with actual 2001 data path\n",
    "census_2011 = pd.read_csv(\"pc11_vd_clean_shrid.csv\")  # Replace with actual 2011 data path\n"
   ]
  },
  {
   "cell_type": "code",
   "execution_count": 47,
   "metadata": {},
   "outputs": [],
   "source": [
    "def fix_key(x):\n",
    "    x = x.split(\"-\")\n",
    "    subdr = x[3]\n",
    "    subdr = int(subdr)\n",
    "    # make it a string with 5 digits (pad 0 in beginning)\n",
    "    subdr = str(subdr).zfill(5)\n",
    "    x[3] = subdr\n",
    "    return \"-\".join(x)"
   ]
  },
  {
   "cell_type": "code",
   "execution_count": 48,
   "metadata": {},
   "outputs": [],
   "source": [
    "census_2001[\"shrid2\"] = census_2001[\"shrid2\"].apply(lambda x: fix_key(x))"
   ]
  },
  {
   "cell_type": "code",
   "execution_count": 49,
   "metadata": {},
   "outputs": [],
   "source": [
    "# drop the columns that are not null in either of the columns that i specify\n",
    "census_2001 = census_2001.dropna(subset=['pc01_vd_sc_p', 'pc01_vd_st_p'])\n",
    "census_2011 = census_2011.dropna(subset=['pc11_vd_sc_p', 'pc11_vd_st_p'])"
   ]
  },
  {
   "cell_type": "code",
   "execution_count": 50,
   "metadata": {},
   "outputs": [
    {
     "name": "stdout",
     "output_type": "stream",
     "text": [
      "(527918, 110)\n",
      "(588973, 284)\n"
     ]
    }
   ],
   "source": [
    "print(census_2001.shape)\n",
    "print(census_2011.shape)"
   ]
  },
  {
   "cell_type": "code",
   "execution_count": 38,
   "metadata": {},
   "outputs": [
    {
     "data": {
      "text/plain": [
       "0            0.0\n",
       "1            0.0\n",
       "2            0.0\n",
       "3            0.0\n",
       "4            0.0\n",
       "           ...  \n",
       "588968    1438.0\n",
       "588969    2281.0\n",
       "588970    2726.0\n",
       "588971    1381.0\n",
       "588972    4518.0\n",
       "Name: pc11_vd_sc_p, Length: 588973, dtype: float64"
      ]
     },
     "execution_count": 38,
     "metadata": {},
     "output_type": "execute_result"
    }
   ],
   "source": [
    "census_2011[\"pc11_vd_sc_p\"] "
   ]
  },
  {
   "cell_type": "code",
   "execution_count": 39,
   "metadata": {},
   "outputs": [],
   "source": [
    "merged_data = pd.merge(census_2001, census_2011, on=\"shrid2\")\n"
   ]
  },
  {
   "cell_type": "code",
   "execution_count": 40,
   "metadata": {},
   "outputs": [
    {
     "data": {
      "text/plain": [
       "(519860, 393)"
      ]
     },
     "execution_count": 40,
     "metadata": {},
     "output_type": "execute_result"
    }
   ],
   "source": [
    "merged_data.shape"
   ]
  },
  {
   "cell_type": "code",
   "execution_count": 52,
   "metadata": {},
   "outputs": [],
   "source": [
    "# Merge datasets on village identifiers (assuming a common column like \"village_id\")\n",
    "\n",
    "# Calculate percentage change in SC and ST populations\n",
    "merged_data[\"sc_change_pct\"] = (\n",
    "    (merged_data[\"pc11_vd_sc_p\"] - merged_data[\"pc01_vd_sc_p\"])\n",
    "    / merged_data[\"pc01_vd_sc_p\"]\n",
    ") * 100\n",
    "merged_data[\"st_change_pct\"] = (\n",
    "    (merged_data[\"pc11_vd_st_p\"] - merged_data[\"pc01_vd_st_p\"])\n",
    "    / merged_data[\"pc01_vd_st_p\"]\n",
    ") * 100\n"
   ]
  },
  {
   "cell_type": "code",
   "execution_count": 54,
   "metadata": {},
   "outputs": [
    {
     "data": {
      "text/html": [
       "<div>\n",
       "<style scoped>\n",
       "    .dataframe tbody tr th:only-of-type {\n",
       "        vertical-align: middle;\n",
       "    }\n",
       "\n",
       "    .dataframe tbody tr th {\n",
       "        vertical-align: top;\n",
       "    }\n",
       "\n",
       "    .dataframe thead th {\n",
       "        text-align: right;\n",
       "    }\n",
       "</style>\n",
       "<table border=\"1\" class=\"dataframe\">\n",
       "  <thead>\n",
       "    <tr style=\"text-align: right;\">\n",
       "      <th></th>\n",
       "      <th>pc01_vd_sc_p</th>\n",
       "      <th>pc11_vd_sc_p</th>\n",
       "      <th>pc01_vd_st_p</th>\n",
       "      <th>pc11_vd_st_p</th>\n",
       "      <th>sc_change_pct</th>\n",
       "      <th>st_change_pct</th>\n",
       "    </tr>\n",
       "  </thead>\n",
       "  <tbody>\n",
       "    <tr>\n",
       "      <th>0</th>\n",
       "      <td>1.0</td>\n",
       "      <td>0.0</td>\n",
       "      <td>1.0</td>\n",
       "      <td>0.0</td>\n",
       "      <td>-100.000000</td>\n",
       "      <td>-100.000000</td>\n",
       "    </tr>\n",
       "    <tr>\n",
       "      <th>1</th>\n",
       "      <td>0.0</td>\n",
       "      <td>0.0</td>\n",
       "      <td>0.0</td>\n",
       "      <td>0.0</td>\n",
       "      <td>NaN</td>\n",
       "      <td>NaN</td>\n",
       "    </tr>\n",
       "    <tr>\n",
       "      <th>2</th>\n",
       "      <td>0.0</td>\n",
       "      <td>0.0</td>\n",
       "      <td>188.0</td>\n",
       "      <td>349.0</td>\n",
       "      <td>NaN</td>\n",
       "      <td>85.638298</td>\n",
       "    </tr>\n",
       "    <tr>\n",
       "      <th>3</th>\n",
       "      <td>0.0</td>\n",
       "      <td>0.0</td>\n",
       "      <td>253.0</td>\n",
       "      <td>302.0</td>\n",
       "      <td>NaN</td>\n",
       "      <td>19.367589</td>\n",
       "    </tr>\n",
       "    <tr>\n",
       "      <th>4</th>\n",
       "      <td>0.0</td>\n",
       "      <td>0.0</td>\n",
       "      <td>10.0</td>\n",
       "      <td>0.0</td>\n",
       "      <td>NaN</td>\n",
       "      <td>-100.000000</td>\n",
       "    </tr>\n",
       "    <tr>\n",
       "      <th>...</th>\n",
       "      <td>...</td>\n",
       "      <td>...</td>\n",
       "      <td>...</td>\n",
       "      <td>...</td>\n",
       "      <td>...</td>\n",
       "      <td>...</td>\n",
       "    </tr>\n",
       "    <tr>\n",
       "      <th>519855</th>\n",
       "      <td>1267.0</td>\n",
       "      <td>1438.0</td>\n",
       "      <td>7.0</td>\n",
       "      <td>0.0</td>\n",
       "      <td>13.496448</td>\n",
       "      <td>-100.000000</td>\n",
       "    </tr>\n",
       "    <tr>\n",
       "      <th>519856</th>\n",
       "      <td>2243.0</td>\n",
       "      <td>2281.0</td>\n",
       "      <td>0.0</td>\n",
       "      <td>0.0</td>\n",
       "      <td>1.694160</td>\n",
       "      <td>NaN</td>\n",
       "    </tr>\n",
       "    <tr>\n",
       "      <th>519857</th>\n",
       "      <td>2188.0</td>\n",
       "      <td>2726.0</td>\n",
       "      <td>0.0</td>\n",
       "      <td>0.0</td>\n",
       "      <td>24.588665</td>\n",
       "      <td>NaN</td>\n",
       "    </tr>\n",
       "    <tr>\n",
       "      <th>519858</th>\n",
       "      <td>1322.0</td>\n",
       "      <td>1381.0</td>\n",
       "      <td>0.0</td>\n",
       "      <td>0.0</td>\n",
       "      <td>4.462935</td>\n",
       "      <td>NaN</td>\n",
       "    </tr>\n",
       "    <tr>\n",
       "      <th>519859</th>\n",
       "      <td>3705.0</td>\n",
       "      <td>4518.0</td>\n",
       "      <td>249.0</td>\n",
       "      <td>5.0</td>\n",
       "      <td>21.943320</td>\n",
       "      <td>-97.991968</td>\n",
       "    </tr>\n",
       "  </tbody>\n",
       "</table>\n",
       "<p>519860 rows × 6 columns</p>\n",
       "</div>"
      ],
      "text/plain": [
       "        pc01_vd_sc_p  pc11_vd_sc_p  pc01_vd_st_p  pc11_vd_st_p  sc_change_pct  \\\n",
       "0                1.0           0.0           1.0           0.0    -100.000000   \n",
       "1                0.0           0.0           0.0           0.0            NaN   \n",
       "2                0.0           0.0         188.0         349.0            NaN   \n",
       "3                0.0           0.0         253.0         302.0            NaN   \n",
       "4                0.0           0.0          10.0           0.0            NaN   \n",
       "...              ...           ...           ...           ...            ...   \n",
       "519855        1267.0        1438.0           7.0           0.0      13.496448   \n",
       "519856        2243.0        2281.0           0.0           0.0       1.694160   \n",
       "519857        2188.0        2726.0           0.0           0.0      24.588665   \n",
       "519858        1322.0        1381.0           0.0           0.0       4.462935   \n",
       "519859        3705.0        4518.0         249.0           5.0      21.943320   \n",
       "\n",
       "        st_change_pct  \n",
       "0         -100.000000  \n",
       "1                 NaN  \n",
       "2           85.638298  \n",
       "3           19.367589  \n",
       "4         -100.000000  \n",
       "...               ...  \n",
       "519855    -100.000000  \n",
       "519856            NaN  \n",
       "519857            NaN  \n",
       "519858            NaN  \n",
       "519859     -97.991968  \n",
       "\n",
       "[519860 rows x 6 columns]"
      ]
     },
     "execution_count": 54,
     "metadata": {},
     "output_type": "execute_result"
    }
   ],
   "source": [
    "merged_data[[\"pc01_vd_sc_p\", \"pc11_vd_sc_p\", \"pc01_vd_st_p\", \"pc11_vd_st_p\", \"sc_change_pct\", \"st_change_pct\"]]"
   ]
  },
  {
   "cell_type": "code",
   "execution_count": null,
   "metadata": {},
   "outputs": [],
   "source": [
    "\n",
    "# Categorize villages based on the number of educational facilities in 2011\n",
    "def categorize_facilities(count):\n",
    "    if count < 2:\n",
    "        return \"Low\"\n",
    "    elif count <= 5:\n",
    "        return \"Medium\"\n",
    "    else:\n",
    "        return \"High\"\n",
    "\n",
    "merged_data[\"education_facility_category\"] = merged_data[\"num_educational_facilities_2011\"].apply(categorize_facilities)\n",
    "\n",
    "# Categorize population changes into bins (e.g., decrease, no change, increase)\n",
    "def categorize_change(value):\n",
    "    if value < 0:\n",
    "        return \"Decrease\"\n",
    "    elif value == 0:\n",
    "        return \"No Change\"\n",
    "    else:\n",
    "        return \"Increase\"\n",
    "\n",
    "merged_data[\"sc_change_category\"] = merged_data[\"sc_change_pct\"].apply(categorize_change)\n",
    "merged_data[\"st_change_category\"] = merged_data[\"st_change_pct\"].apply(categorize_change)\n",
    "\n",
    "# Create a contingency table for chi-squared test\n",
    "contingency_table = pd.crosstab(\n",
    "    merged_data[\"education_facility_category\"], merged_data[\"sc_change_category\"]\n",
    ")\n",
    "\n",
    "# Perform chi-squared test\n",
    "chi2, p_value, dof, expected = chi2_contingency(contingency_table)\n",
    "print(\"Chi-squared Test Results for SC Population Changes:\")\n",
    "print(f\"Chi-squared Statistic: {chi2}\")\n",
    "print(f\"P-value: {p_value}\")\n",
    "\n",
    "# Logistic Regression for SC Population Change (Increase vs Others)\n",
    "merged_data[\"sc_increase\"] = (merged_data[\"sc_change_category\"] == \"Increase\").astype(int)\n",
    "X = pd.get_dummies(merged_data[\"education_facility_category\"], drop_first=True)\n",
    "X = sm.add_constant(X)  # Add a constant for the intercept\n",
    "y = merged_data[\"sc_increase\"]\n",
    "\n",
    "logit_model = sm.Logit(y, X)\n",
    "result = logit_model.fit()\n",
    "print(result.summary())\n",
    "\n",
    "# Repeat the analysis for ST Population Change\n",
    "contingency_table_st = pd.crosstab(\n",
    "    merged_data[\"education_facility_category\"], merged_data[\"st_change_category\"]\n",
    ")\n",
    "\n",
    "chi2_st, p_value_st, dof_st, expected_st = chi2_contingency(contingency_table_st)\n",
    "print(\"\\nChi-squared Test Results for ST Population Changes:\")\n",
    "print(f\"Chi-squared Statistic: {chi2_st}\")\n",
    "print(f\"P-value: {p_value_st}\")\n",
    "\n",
    "merged_data[\"st_increase\"] = (merged_data[\"st_change_category\"] == \"Increase\").astype(int)\n",
    "y_st = merged_data[\"st_increase\"]\n",
    "\n",
    "logit_model_st = sm.Logit(y_st, X)\n",
    "result_st = logit_model_st.fit()\n",
    "print(result_st.summary())\n"
   ]
  },
  {
   "cell_type": "code",
   "execution_count": null,
   "metadata": {},
   "outputs": [],
   "source": []
  }
 ],
 "metadata": {
  "kernelspec": {
   "display_name": "base",
   "language": "python",
   "name": "python3"
  },
  "language_info": {
   "codemirror_mode": {
    "name": "ipython",
    "version": 3
   },
   "file_extension": ".py",
   "mimetype": "text/x-python",
   "name": "python",
   "nbconvert_exporter": "python",
   "pygments_lexer": "ipython3",
   "version": "3.11.5"
  }
 },
 "nbformat": 4,
 "nbformat_minor": 2
}
